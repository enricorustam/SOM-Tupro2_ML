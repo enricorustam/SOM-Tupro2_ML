{
 "cells": [
  {
   "cell_type": "code",
   "execution_count": 257,
   "metadata": {},
   "outputs": [],
   "source": [
    "import csv\n",
    "import numpy as np\n",
    "import pandas as pd\n",
    "import matplotlib.pyplot as plt\n"
   ]
  },
  {
   "cell_type": "code",
   "execution_count": 258,
   "metadata": {},
   "outputs": [],
   "source": [
    "# #read csv \n",
    "with open('dataset.csv', 'r') as f:\n",
    "    reader = csv.reader(f)\n",
    "    dataTrain = [[float(r[0]), float(r[1]), -1] for r in reader]"
   ]
  },
  {
   "cell_type": "code",
   "execution_count": 259,
   "metadata": {},
   "outputs": [],
   "source": [
    "def RumusEuc(x, y): \n",
    "    return np.sqrt(((x[0] - y[0])**2) + ((x[1] - y[1])**2))\n",
    "\n",
    "\n",
    "def Transform(dataset, n):\n",
    "    for i in range(n):\n",
    "        mn = min([x[i] for x in dataset])\n",
    "        mx = max([x[i] for x in dataset])\n",
    "        for data in dataset:\n",
    "            data[i] = (data[i] - mn)/(mx - mn)\n",
    "    return dataset\n"
   ]
  },
  {
   "cell_type": "code",
   "execution_count": 260,
   "metadata": {},
   "outputs": [],
   "source": [
    "dataTrain1= Transform(dataTrain,2 )"
   ]
  },
  {
   "cell_type": "code",
   "execution_count": 261,
   "metadata": {},
   "outputs": [],
   "source": [
    "#INISIALISASI \n",
    "\n",
    "ns = 1200\n",
    "lr = 0.1\n",
    "thlr = 2    \n",
    "radius = 2\n",
    "thradius = 2\n",
    "convergence = 0.000000001\n",
    "best = []\n",
    "tempDW = 0\n",
    "iterations = 1000\n",
    "colours = ['black', 'grey', 'red', 'green', 'blue', 'yellow', 'magenta', 'tan', 'aqua', 'violet', 'crimson', 'pink']"
   ]
  },
  {
   "cell_type": "code",
   "execution_count": 262,
   "metadata": {},
   "outputs": [],
   "source": [
    "#random neuron \n",
    "neurons = [list(np.insert(np.random.rand(2), 2, x)) for x in range(ns)]"
   ]
  },
  {
   "cell_type": "code",
   "execution_count": 263,
   "metadata": {},
   "outputs": [
    {
     "name": "stdout",
     "output_type": "stream",
     "text": [
      "ITERATIONS\t\t: 1000\n"
     ]
    }
   ],
   "source": [
    "print(\"ITERATIONS\\t\\t:\", iterations)\n",
    "for iteration in range(iterations):\n",
    "    data_rand = dataTrain1[np.random.randint(0,599)] \n",
    "    #menghitung dataset secara acak ke semua neuron\n",
    "    dj=[]\n",
    "    for neuron in neurons :\n",
    "        d= RumusEuc(data_rand,neuron)\n",
    "        dj.append(d)\n",
    "    #menentukan winner\n",
    "    win = neurons[np.argmin(dj)]\n",
    "    if np.argmin(dj) not in best: best.append(np.argmin(dj))\n",
    "    #menentukan tetanggaa bedasarkan radius\n",
    "    tetangga = []\n",
    "    for n in range(len(neurons)):\n",
    "        if RumusEuc(win, neurons[n]) <= radius:\n",
    "            tetangga.append(n)  \n",
    "    #update neuron \n",
    "    for p in tetangga :\n",
    "        s = RumusEuc(win, neurons[p])\n",
    "        tij= np.exp((-s**2)/(2 * radius ** 2))\n",
    "        dW = lr * tij * (RumusEuc(data_rand, neurons[p]))\n",
    "        neurons[p][0] += dW\n",
    "        neurons[p][1] += dW \n",
    "    dW = lr * tij* (RumusEuc(data_rand, win))\n",
    "    a= np.absolute(dW - tempDW)\n",
    "    if a < convergence: \n",
    "        break\n",
    "    lr *= np.exp(-iteration / thlr)\n",
    "    radius *= np.exp(-iteration / thradius)\n",
    "#train dataset\n",
    "for g in dataTrain1:\n",
    "    dj = []\n",
    "    for u in best:\n",
    "        dj.append(RumusEuc(g, neurons[u]))\n",
    "    win = neurons[np.argmin(dj)]\n",
    "    # print(candidate_neuron, win_neuron)\n",
    "    g[2] = int(win[2])\n",
    "   \n",
    "\n",
    "        "
   ]
  },
  {
   "cell_type": "code",
   "execution_count": 264,
   "metadata": {},
   "outputs": [
    {
     "name": "stdout",
     "output_type": "stream",
     "text": [
      "Total Cluster\t: 9\n"
     ]
    },
    {
     "data": {
      "image/png": "[encoded data removed]",
      "text/plain": [
       "<Figure size 432x288 with 1 Axes>"
      ]
     },
     "metadata": {
      "needs_background": "light"
     },
     "output_type": "display_data"
    }
   ],
   "source": [
    "i = 0\n",
    "for c in range(ns):\n",
    "    cluster = []\n",
    "    for data in dataTrain1:\n",
    "        if (data[2] == c): cluster.append(data)\n",
    "\n",
    "  # PLOT DATA INPUT\n",
    "    plt.plot([x[0] for x in cluster], [x[1] for x in cluster], marker='.', color=colours[c % len(colours)], markersize=1, linestyle='None')\n",
    "\n",
    "print(\"Total Cluster\\t:\", len(best))\n",
    "plt.xlabel(\"X-Axis\")\n",
    "plt.ylabel(\"Y-Axis\")\n",
    "plt.axis([-0.2, 1.2, -0.2, 1.2])\n",
    "plt.grid()\n",
    "plt.show()"
   ]
  },
  {
   "cell_type": "code",
   "execution_count": null,
   "metadata": {},
   "outputs": [],
   "source": []
  },
  {
   "cell_type": "code",
   "execution_count": null,
   "metadata": {},
   "outputs": [],
   "source": []
  }
 ],
 "metadata": {
  "kernelspec": {
   "display_name": "Python 3",
   "language": "python",
   "name": "python3"
  },
  "language_info": {
   "codemirror_mode": {
    "name": "ipython",
    "version": 3
   },
   "file_extension": ".py",
   "mimetype": "text/x-python",
   "name": "python",
   "nbconvert_exporter": "python",
   "pygments_lexer": "ipython3",
   "version": "3.7.1"
  }
 },
 "nbformat": 4,
 "nbformat_minor": 2
}
